{
 "cells": [
  {
   "cell_type": "code",
   "execution_count": 2,
   "metadata": {
    "colab": {
     "base_uri": "https://localhost:8080/"
    },
    "executionInfo": {
     "elapsed": 40552,
     "status": "ok",
     "timestamp": 1624462855007,
     "user": {
      "displayName": "Cristina Axente",
      "photoUrl": "",
      "userId": "11463701599394238483"
     },
     "user_tz": -180
    },
    "id": "nQAgu-0ri3bb",
    "outputId": "e601963d-353a-49a5-f9a8-46779f3cb029"
   },
   "outputs": [
    {
     "name": "stdout",
     "output_type": "stream",
     "text": [
      "Collecting pyspark\n",
      "\u001b[?25l  Downloading https://files.pythonhosted.org/packages/89/db/e18cfd78e408de957821ec5ca56de1250645b05f8523d169803d8df35a64/pyspark-3.1.2.tar.gz (212.4MB)\n",
      "\u001b[K     |████████████████████████████████| 212.4MB 69kB/s \n",
      "\u001b[?25hCollecting py4j==0.10.9\n",
      "\u001b[?25l  Downloading https://files.pythonhosted.org/packages/9e/b6/6a4fb90cd235dc8e265a6a2067f2a2c99f0d91787f06aca4bcf7c23f3f80/py4j-0.10.9-py2.py3-none-any.whl (198kB)\n",
      "\u001b[K     |████████████████████████████████| 204kB 19.7MB/s \n",
      "\u001b[?25hBuilding wheels for collected packages: pyspark\n",
      "  Building wheel for pyspark (setup.py) ... \u001b[?25l\u001b[?25hdone\n",
      "  Created wheel for pyspark: filename=pyspark-3.1.2-py2.py3-none-any.whl size=212880768 sha256=57adb4955e8e15ed8ca4acc35caf3a2ab2af557ae9f75b5eba27dd8334296a1d\n",
      "  Stored in directory: /root/.cache/pip/wheels/40/1b/2c/30f43be2627857ab80062bef1527c0128f7b4070b6b2d02139\n",
      "Successfully built pyspark\n",
      "Installing collected packages: py4j, pyspark\n",
      "Successfully installed py4j-0.10.9 pyspark-3.1.2\n"
     ]
    }
   ],
   "source": [
    "pip install pyspark"
   ]
  },
  {
   "cell_type": "markdown",
   "metadata": {
    "id": "cFVMKCTWjjRz"
   },
   "source": [
    "## **Heart Attack Dataset**"
   ]
  },
  {
   "cell_type": "markdown",
   "metadata": {
    "id": "-I3p9ZJrkFqc"
   },
   "source": [
    "Characteristics about this dataset:\n",
    "\n",
    "\n",
    "*   Age: Age of the patient;\n",
    "*   Sex: Sex of the patient;\n",
    "*   exang: exercise induced angina(1 = yes, 0 = no) -> It is a medical condition of cardiac patients;\n",
    "*   ca: number of major vessels(0-3);\n",
    "*   cp: Chest Pain type: \n",
    "      *   Value 1: typical angina;\n",
    "      *   Value 2: atypical angina;\n",
    "      *   Value 3: non-anginal pain;\n",
    "      *   Value 4: asymptomatic.\n",
    "*   trtbps: resting blood pressure(in mm Hg);\n",
    "*   chol: cholestoral in mg/dl fetched via BMI sensor;\n",
    "*   fbs: fasting blood sugar > 120 mg/dl(1 = true, 0 = false);\n",
    "*   rest_ecg: resting electrocardiographic results\n",
    "     *   Value 0: normal;\n",
    "     *   Value 1: having ST-T wave abnormality(T wave inversions and/or ST elevation or depression of > 0.05mV;\n",
    "     *   Value 2: showing probable or definite left ventricualr hypertrophy by Estes' criteria. \n",
    "*   thalach: maximum heart rate achieved\n",
    "*   target: 0=less chance of heart attack 1=more chanhe of heart attack.\n",
    "\n",
    "\n",
    "\n",
    "\n",
    "\n",
    "\n",
    "\n",
    "\n",
    "\n",
    "\n",
    "\n",
    "\n",
    "\n"
   ]
  },
  {
   "cell_type": "markdown",
   "metadata": {
    "id": "_A9aMfFuvGMg"
   },
   "source": [
    "# **1. Importam librariile**"
   ]
  },
  {
   "cell_type": "code",
   "execution_count": 292,
   "metadata": {
    "executionInfo": {
     "elapsed": 360,
     "status": "ok",
     "timestamp": 1624471048611,
     "user": {
      "displayName": "Cristina Axente",
      "photoUrl": "",
      "userId": "11463701599394238483"
     },
     "user_tz": -180
    },
    "id": "2UT57n9tvMG_"
   },
   "outputs": [],
   "source": [
    "import pandas as pd\n",
    "import numpy as np\n",
    "import seaborn as sns\n",
    "import matplotlib.pyplot as plt\n",
    "from pyspark.sql import SparkSession"
   ]
  },
  {
   "cell_type": "markdown",
   "metadata": {
    "id": "Q7aibdu2vXG3"
   },
   "source": [
    "# **2. Incarcam datele din 'heart.csv'**"
   ]
  },
  {
   "cell_type": "code",
   "execution_count": 293,
   "metadata": {
    "executionInfo": {
     "elapsed": 3,
     "status": "ok",
     "timestamp": 1624471050135,
     "user": {
      "displayName": "Cristina Axente",
      "photoUrl": "",
      "userId": "11463701599394238483"
     },
     "user_tz": -180
    },
    "id": "j2E4fNk0vdtH"
   },
   "outputs": [],
   "source": [
    "df_1 = pd.read_csv('/content/sample_data/heart.csv')"
   ]
  },
  {
   "cell_type": "code",
   "execution_count": 294,
   "metadata": {
    "colab": {
     "base_uri": "https://localhost:8080/",
     "height": 204
    },
    "executionInfo": {
     "elapsed": 598,
     "status": "ok",
     "timestamp": 1624471052405,
     "user": {
      "displayName": "Cristina Axente",
      "photoUrl": "",
      "userId": "11463701599394238483"
     },
     "user_tz": -180
    },
    "id": "puy1KshXvhXf",
    "outputId": "9526e0ff-53be-46e8-fca9-4aa5742291f3"
   },
   "outputs": [
    {
     "data": {
      "text/html": [
       "<div>\n",
       "<style scoped>\n",
       "    .dataframe tbody tr th:only-of-type {\n",
       "        vertical-align: middle;\n",
       "    }\n",
       "\n",
       "    .dataframe tbody tr th {\n",
       "        vertical-align: top;\n",
       "    }\n",
       "\n",
       "    .dataframe thead th {\n",
       "        text-align: right;\n",
       "    }\n",
       "</style>\n",
       "<table border=\"1\" class=\"dataframe\">\n",
       "  <thead>\n",
       "    <tr style=\"text-align: right;\">\n",
       "      <th></th>\n",
       "      <th>age</th>\n",
       "      <th>sex</th>\n",
       "      <th>cp</th>\n",
       "      <th>trtbps</th>\n",
       "      <th>chol</th>\n",
       "      <th>fbs</th>\n",
       "      <th>restecg</th>\n",
       "      <th>thalachh</th>\n",
       "      <th>exng</th>\n",
       "      <th>oldpeak</th>\n",
       "      <th>slp</th>\n",
       "      <th>caa</th>\n",
       "      <th>thall</th>\n",
       "      <th>output</th>\n",
       "    </tr>\n",
       "  </thead>\n",
       "  <tbody>\n",
       "    <tr>\n",
       "      <th>0</th>\n",
       "      <td>63</td>\n",
       "      <td>1</td>\n",
       "      <td>3</td>\n",
       "      <td>145</td>\n",
       "      <td>233</td>\n",
       "      <td>1</td>\n",
       "      <td>0</td>\n",
       "      <td>150</td>\n",
       "      <td>0</td>\n",
       "      <td>2.3</td>\n",
       "      <td>0</td>\n",
       "      <td>0</td>\n",
       "      <td>1</td>\n",
       "      <td>1</td>\n",
       "    </tr>\n",
       "    <tr>\n",
       "      <th>1</th>\n",
       "      <td>37</td>\n",
       "      <td>1</td>\n",
       "      <td>2</td>\n",
       "      <td>130</td>\n",
       "      <td>250</td>\n",
       "      <td>0</td>\n",
       "      <td>1</td>\n",
       "      <td>187</td>\n",
       "      <td>0</td>\n",
       "      <td>3.5</td>\n",
       "      <td>0</td>\n",
       "      <td>0</td>\n",
       "      <td>2</td>\n",
       "      <td>1</td>\n",
       "    </tr>\n",
       "    <tr>\n",
       "      <th>2</th>\n",
       "      <td>41</td>\n",
       "      <td>0</td>\n",
       "      <td>1</td>\n",
       "      <td>130</td>\n",
       "      <td>204</td>\n",
       "      <td>0</td>\n",
       "      <td>0</td>\n",
       "      <td>172</td>\n",
       "      <td>0</td>\n",
       "      <td>1.4</td>\n",
       "      <td>2</td>\n",
       "      <td>0</td>\n",
       "      <td>2</td>\n",
       "      <td>1</td>\n",
       "    </tr>\n",
       "    <tr>\n",
       "      <th>3</th>\n",
       "      <td>56</td>\n",
       "      <td>1</td>\n",
       "      <td>1</td>\n",
       "      <td>120</td>\n",
       "      <td>236</td>\n",
       "      <td>0</td>\n",
       "      <td>1</td>\n",
       "      <td>178</td>\n",
       "      <td>0</td>\n",
       "      <td>0.8</td>\n",
       "      <td>2</td>\n",
       "      <td>0</td>\n",
       "      <td>2</td>\n",
       "      <td>1</td>\n",
       "    </tr>\n",
       "    <tr>\n",
       "      <th>4</th>\n",
       "      <td>57</td>\n",
       "      <td>0</td>\n",
       "      <td>0</td>\n",
       "      <td>120</td>\n",
       "      <td>354</td>\n",
       "      <td>0</td>\n",
       "      <td>1</td>\n",
       "      <td>163</td>\n",
       "      <td>1</td>\n",
       "      <td>0.6</td>\n",
       "      <td>2</td>\n",
       "      <td>0</td>\n",
       "      <td>2</td>\n",
       "      <td>1</td>\n",
       "    </tr>\n",
       "  </tbody>\n",
       "</table>\n",
       "</div>"
      ],
      "text/plain": [
       "   age  sex  cp  trtbps  chol  fbs  ...  exng  oldpeak  slp  caa  thall  output\n",
       "0   63    1   3     145   233    1  ...     0      2.3    0    0      1       1\n",
       "1   37    1   2     130   250    0  ...     0      3.5    0    0      2       1\n",
       "2   41    0   1     130   204    0  ...     0      1.4    2    0      2       1\n",
       "3   56    1   1     120   236    0  ...     0      0.8    2    0      2       1\n",
       "4   57    0   0     120   354    0  ...     1      0.6    2    0      2       1\n",
       "\n",
       "[5 rows x 14 columns]"
      ]
     },
     "execution_count": 294,
     "metadata": {
      "tags": []
     },
     "output_type": "execute_result"
    }
   ],
   "source": [
    "df_1.head()"
   ]
  },
  {
   "cell_type": "code",
   "execution_count": 246,
   "metadata": {
    "colab": {
     "base_uri": "https://localhost:8080/"
    },
    "executionInfo": {
     "elapsed": 4,
     "status": "ok",
     "timestamp": 1624470908401,
     "user": {
      "displayName": "Cristina Axente",
      "photoUrl": "",
      "userId": "11463701599394238483"
     },
     "user_tz": -180
    },
    "id": "lY_WRCz9zPqX",
    "outputId": "44c3237e-e0f7-450f-e9ba-d122397ec9c5"
   },
   "outputs": [
    {
     "data": {
      "text/plain": [
       "(303, 14)"
      ]
     },
     "execution_count": 246,
     "metadata": {
      "tags": []
     },
     "output_type": "execute_result"
    }
   ],
   "source": [
    "df_1.shape"
   ]
  },
  {
   "cell_type": "markdown",
   "metadata": {
    "id": "CAi0ACe4yviZ"
   },
   "source": [
    "#**3. Analiza datelor**"
   ]
  },
  {
   "cell_type": "markdown",
   "metadata": {
    "id": "64q6JbhazF6S"
   },
   "source": [
    "**3.1. Verificam daca exista valori null**"
   ]
  },
  {
   "cell_type": "code",
   "execution_count": 247,
   "metadata": {
    "colab": {
     "base_uri": "https://localhost:8080/"
    },
    "executionInfo": {
     "elapsed": 4,
     "status": "ok",
     "timestamp": 1624470909365,
     "user": {
      "displayName": "Cristina Axente",
      "photoUrl": "",
      "userId": "11463701599394238483"
     },
     "user_tz": -180
    },
    "id": "UdWz0XJAzME0",
    "outputId": "0d805257-4475-4356-ae2c-739ee352b3c2"
   },
   "outputs": [
    {
     "data": {
      "text/plain": [
       "age         0\n",
       "sex         0\n",
       "cp          0\n",
       "trtbps      0\n",
       "chol        0\n",
       "fbs         0\n",
       "restecg     0\n",
       "thalachh    0\n",
       "exng        0\n",
       "oldpeak     0\n",
       "slp         0\n",
       "caa         0\n",
       "thall       0\n",
       "output      0\n",
       "dtype: int64"
      ]
     },
     "execution_count": 247,
     "metadata": {
      "tags": []
     },
     "output_type": "execute_result"
    }
   ],
   "source": [
    "df_1.isnull().sum()"
   ]
  },
  {
   "cell_type": "code",
   "execution_count": 248,
   "metadata": {
    "colab": {
     "base_uri": "https://localhost:8080/"
    },
    "executionInfo": {
     "elapsed": 10,
     "status": "ok",
     "timestamp": 1624470910483,
     "user": {
      "displayName": "Cristina Axente",
      "photoUrl": "",
      "userId": "11463701599394238483"
     },
     "user_tz": -180
    },
    "id": "1T-9SFe6zZX_",
    "outputId": "8d7515ea-aecf-495d-d5d2-03e984b8aaa6"
   },
   "outputs": [
    {
     "data": {
      "text/plain": [
       "False"
      ]
     },
     "execution_count": 248,
     "metadata": {
      "tags": []
     },
     "output_type": "execute_result"
    }
   ],
   "source": [
    "df_1.isnull().sum().any()"
   ]
  },
  {
   "cell_type": "markdown",
   "metadata": {
    "id": "t6szt0L0zb9h"
   },
   "source": [
    "**Observam ca setul de date ales nu contine valori null.**"
   ]
  },
  {
   "cell_type": "markdown",
   "metadata": {
    "id": "ht_bHRFJACFh"
   },
   "source": [
    "**3.2 Verificam daca sunt duplicate**"
   ]
  },
  {
   "cell_type": "code",
   "execution_count": 296,
   "metadata": {
    "colab": {
     "base_uri": "https://localhost:8080/",
     "height": 80
    },
    "executionInfo": {
     "elapsed": 389,
     "status": "ok",
     "timestamp": 1624471075824,
     "user": {
      "displayName": "Cristina Axente",
      "photoUrl": "",
      "userId": "11463701599394238483"
     },
     "user_tz": -180
    },
    "id": "wRTlCG8JAJHW",
    "outputId": "78abd758-c77b-4196-af34-24c2c7362ffd"
   },
   "outputs": [
    {
     "data": {
      "text/html": [
       "<div>\n",
       "<style scoped>\n",
       "    .dataframe tbody tr th:only-of-type {\n",
       "        vertical-align: middle;\n",
       "    }\n",
       "\n",
       "    .dataframe tbody tr th {\n",
       "        vertical-align: top;\n",
       "    }\n",
       "\n",
       "    .dataframe thead th {\n",
       "        text-align: right;\n",
       "    }\n",
       "</style>\n",
       "<table border=\"1\" class=\"dataframe\">\n",
       "  <thead>\n",
       "    <tr style=\"text-align: right;\">\n",
       "      <th></th>\n",
       "      <th>age</th>\n",
       "      <th>sex</th>\n",
       "      <th>cp</th>\n",
       "      <th>trtbps</th>\n",
       "      <th>chol</th>\n",
       "      <th>fbs</th>\n",
       "      <th>restecg</th>\n",
       "      <th>thalachh</th>\n",
       "      <th>exng</th>\n",
       "      <th>oldpeak</th>\n",
       "      <th>slp</th>\n",
       "      <th>caa</th>\n",
       "      <th>thall</th>\n",
       "      <th>output</th>\n",
       "    </tr>\n",
       "  </thead>\n",
       "  <tbody>\n",
       "    <tr>\n",
       "      <th>164</th>\n",
       "      <td>38</td>\n",
       "      <td>1</td>\n",
       "      <td>2</td>\n",
       "      <td>138</td>\n",
       "      <td>175</td>\n",
       "      <td>0</td>\n",
       "      <td>1</td>\n",
       "      <td>173</td>\n",
       "      <td>0</td>\n",
       "      <td>0.0</td>\n",
       "      <td>2</td>\n",
       "      <td>4</td>\n",
       "      <td>2</td>\n",
       "      <td>1</td>\n",
       "    </tr>\n",
       "  </tbody>\n",
       "</table>\n",
       "</div>"
      ],
      "text/plain": [
       "     age  sex  cp  trtbps  chol  fbs  ...  exng  oldpeak  slp  caa  thall  output\n",
       "164   38    1   2     138   175    0  ...     0      0.0    2    4      2       1\n",
       "\n",
       "[1 rows x 14 columns]"
      ]
     },
     "execution_count": 296,
     "metadata": {
      "tags": []
     },
     "output_type": "execute_result"
    }
   ],
   "source": [
    "df_1.loc[df_1.duplicated()]"
   ]
  },
  {
   "cell_type": "code",
   "execution_count": 301,
   "metadata": {
    "colab": {
     "base_uri": "https://localhost:8080/"
    },
    "executionInfo": {
     "elapsed": 380,
     "status": "ok",
     "timestamp": 1624471098042,
     "user": {
      "displayName": "Cristina Axente",
      "photoUrl": "",
      "userId": "11463701599394238483"
     },
     "user_tz": -180
    },
    "id": "4CwccZlXAX61",
    "outputId": "f5a71106-9e49-4b73-b9fb-7119bde51dd8"
   },
   "outputs": [
    {
     "data": {
      "text/plain": [
       "1"
      ]
     },
     "execution_count": 301,
     "metadata": {
      "tags": []
     },
     "output_type": "execute_result"
    }
   ],
   "source": [
    "df_1.duplicated().sum()"
   ]
  },
  {
   "cell_type": "code",
   "execution_count": 302,
   "metadata": {
    "executionInfo": {
     "elapsed": 7,
     "status": "ok",
     "timestamp": 1624471099075,
     "user": {
      "displayName": "Cristina Axente",
      "photoUrl": "",
      "userId": "11463701599394238483"
     },
     "user_tz": -180
    },
    "id": "CAYcvChRAc-G"
   },
   "outputs": [],
   "source": [
    "df = df_1.drop_duplicates()"
   ]
  },
  {
   "cell_type": "code",
   "execution_count": 303,
   "metadata": {
    "colab": {
     "base_uri": "https://localhost:8080/"
    },
    "executionInfo": {
     "elapsed": 3,
     "status": "ok",
     "timestamp": 1624471100519,
     "user": {
      "displayName": "Cristina Axente",
      "photoUrl": "",
      "userId": "11463701599394238483"
     },
     "user_tz": -180
    },
    "id": "R14SR6m2Aktw",
    "outputId": "c642427f-575f-4028-bbcc-51a227e6771e"
   },
   "outputs": [
    {
     "data": {
      "text/plain": [
       "0"
      ]
     },
     "execution_count": 303,
     "metadata": {
      "tags": []
     },
     "output_type": "execute_result"
    }
   ],
   "source": [
    "df.duplicated().sum()"
   ]
  },
  {
   "cell_type": "markdown",
   "metadata": {
    "id": "8RNSlE7pzrIS"
   },
   "source": [
    "**3.3 Afisam statisticile descriptive**"
   ]
  },
  {
   "cell_type": "code",
   "execution_count": 304,
   "metadata": {
    "colab": {
     "base_uri": "https://localhost:8080/",
     "height": 482
    },
    "executionInfo": {
     "elapsed": 368,
     "status": "ok",
     "timestamp": 1624471102924,
     "user": {
      "displayName": "Cristina Axente",
      "photoUrl": "",
      "userId": "11463701599394238483"
     },
     "user_tz": -180
    },
    "id": "XTLEfvQ8z3Jm",
    "outputId": "e494dac4-d09e-4caa-eef7-9c08fa1b8dc3"
   },
   "outputs": [
    {
     "data": {
      "text/html": [
       "<div>\n",
       "<style scoped>\n",
       "    .dataframe tbody tr th:only-of-type {\n",
       "        vertical-align: middle;\n",
       "    }\n",
       "\n",
       "    .dataframe tbody tr th {\n",
       "        vertical-align: top;\n",
       "    }\n",
       "\n",
       "    .dataframe thead th {\n",
       "        text-align: right;\n",
       "    }\n",
       "</style>\n",
       "<table border=\"1\" class=\"dataframe\">\n",
       "  <thead>\n",
       "    <tr style=\"text-align: right;\">\n",
       "      <th></th>\n",
       "      <th>count</th>\n",
       "      <th>mean</th>\n",
       "      <th>std</th>\n",
       "      <th>min</th>\n",
       "      <th>25%</th>\n",
       "      <th>50%</th>\n",
       "      <th>75%</th>\n",
       "      <th>max</th>\n",
       "    </tr>\n",
       "  </thead>\n",
       "  <tbody>\n",
       "    <tr>\n",
       "      <th>age</th>\n",
       "      <td>302.0</td>\n",
       "      <td>54.420530</td>\n",
       "      <td>9.047970</td>\n",
       "      <td>29.0</td>\n",
       "      <td>48.00</td>\n",
       "      <td>55.5</td>\n",
       "      <td>61.00</td>\n",
       "      <td>77.0</td>\n",
       "    </tr>\n",
       "    <tr>\n",
       "      <th>sex</th>\n",
       "      <td>302.0</td>\n",
       "      <td>0.682119</td>\n",
       "      <td>0.466426</td>\n",
       "      <td>0.0</td>\n",
       "      <td>0.00</td>\n",
       "      <td>1.0</td>\n",
       "      <td>1.00</td>\n",
       "      <td>1.0</td>\n",
       "    </tr>\n",
       "    <tr>\n",
       "      <th>cp</th>\n",
       "      <td>302.0</td>\n",
       "      <td>0.963576</td>\n",
       "      <td>1.032044</td>\n",
       "      <td>0.0</td>\n",
       "      <td>0.00</td>\n",
       "      <td>1.0</td>\n",
       "      <td>2.00</td>\n",
       "      <td>3.0</td>\n",
       "    </tr>\n",
       "    <tr>\n",
       "      <th>trtbps</th>\n",
       "      <td>302.0</td>\n",
       "      <td>131.602649</td>\n",
       "      <td>17.563394</td>\n",
       "      <td>94.0</td>\n",
       "      <td>120.00</td>\n",
       "      <td>130.0</td>\n",
       "      <td>140.00</td>\n",
       "      <td>200.0</td>\n",
       "    </tr>\n",
       "    <tr>\n",
       "      <th>chol</th>\n",
       "      <td>302.0</td>\n",
       "      <td>246.500000</td>\n",
       "      <td>51.753489</td>\n",
       "      <td>126.0</td>\n",
       "      <td>211.00</td>\n",
       "      <td>240.5</td>\n",
       "      <td>274.75</td>\n",
       "      <td>564.0</td>\n",
       "    </tr>\n",
       "    <tr>\n",
       "      <th>fbs</th>\n",
       "      <td>302.0</td>\n",
       "      <td>0.149007</td>\n",
       "      <td>0.356686</td>\n",
       "      <td>0.0</td>\n",
       "      <td>0.00</td>\n",
       "      <td>0.0</td>\n",
       "      <td>0.00</td>\n",
       "      <td>1.0</td>\n",
       "    </tr>\n",
       "    <tr>\n",
       "      <th>restecg</th>\n",
       "      <td>302.0</td>\n",
       "      <td>0.526490</td>\n",
       "      <td>0.526027</td>\n",
       "      <td>0.0</td>\n",
       "      <td>0.00</td>\n",
       "      <td>1.0</td>\n",
       "      <td>1.00</td>\n",
       "      <td>2.0</td>\n",
       "    </tr>\n",
       "    <tr>\n",
       "      <th>thalachh</th>\n",
       "      <td>302.0</td>\n",
       "      <td>149.569536</td>\n",
       "      <td>22.903527</td>\n",
       "      <td>71.0</td>\n",
       "      <td>133.25</td>\n",
       "      <td>152.5</td>\n",
       "      <td>166.00</td>\n",
       "      <td>202.0</td>\n",
       "    </tr>\n",
       "    <tr>\n",
       "      <th>exng</th>\n",
       "      <td>302.0</td>\n",
       "      <td>0.327815</td>\n",
       "      <td>0.470196</td>\n",
       "      <td>0.0</td>\n",
       "      <td>0.00</td>\n",
       "      <td>0.0</td>\n",
       "      <td>1.00</td>\n",
       "      <td>1.0</td>\n",
       "    </tr>\n",
       "    <tr>\n",
       "      <th>oldpeak</th>\n",
       "      <td>302.0</td>\n",
       "      <td>1.043046</td>\n",
       "      <td>1.161452</td>\n",
       "      <td>0.0</td>\n",
       "      <td>0.00</td>\n",
       "      <td>0.8</td>\n",
       "      <td>1.60</td>\n",
       "      <td>6.2</td>\n",
       "    </tr>\n",
       "    <tr>\n",
       "      <th>slp</th>\n",
       "      <td>302.0</td>\n",
       "      <td>1.397351</td>\n",
       "      <td>0.616274</td>\n",
       "      <td>0.0</td>\n",
       "      <td>1.00</td>\n",
       "      <td>1.0</td>\n",
       "      <td>2.00</td>\n",
       "      <td>2.0</td>\n",
       "    </tr>\n",
       "    <tr>\n",
       "      <th>caa</th>\n",
       "      <td>302.0</td>\n",
       "      <td>0.718543</td>\n",
       "      <td>1.006748</td>\n",
       "      <td>0.0</td>\n",
       "      <td>0.00</td>\n",
       "      <td>0.0</td>\n",
       "      <td>1.00</td>\n",
       "      <td>4.0</td>\n",
       "    </tr>\n",
       "    <tr>\n",
       "      <th>thall</th>\n",
       "      <td>302.0</td>\n",
       "      <td>2.314570</td>\n",
       "      <td>0.613026</td>\n",
       "      <td>0.0</td>\n",
       "      <td>2.00</td>\n",
       "      <td>2.0</td>\n",
       "      <td>3.00</td>\n",
       "      <td>3.0</td>\n",
       "    </tr>\n",
       "    <tr>\n",
       "      <th>output</th>\n",
       "      <td>302.0</td>\n",
       "      <td>0.543046</td>\n",
       "      <td>0.498970</td>\n",
       "      <td>0.0</td>\n",
       "      <td>0.00</td>\n",
       "      <td>1.0</td>\n",
       "      <td>1.00</td>\n",
       "      <td>1.0</td>\n",
       "    </tr>\n",
       "  </tbody>\n",
       "</table>\n",
       "</div>"
      ],
      "text/plain": [
       "          count        mean        std    min     25%    50%     75%    max\n",
       "age       302.0   54.420530   9.047970   29.0   48.00   55.5   61.00   77.0\n",
       "sex       302.0    0.682119   0.466426    0.0    0.00    1.0    1.00    1.0\n",
       "cp        302.0    0.963576   1.032044    0.0    0.00    1.0    2.00    3.0\n",
       "trtbps    302.0  131.602649  17.563394   94.0  120.00  130.0  140.00  200.0\n",
       "chol      302.0  246.500000  51.753489  126.0  211.00  240.5  274.75  564.0\n",
       "fbs       302.0    0.149007   0.356686    0.0    0.00    0.0    0.00    1.0\n",
       "restecg   302.0    0.526490   0.526027    0.0    0.00    1.0    1.00    2.0\n",
       "thalachh  302.0  149.569536  22.903527   71.0  133.25  152.5  166.00  202.0\n",
       "exng      302.0    0.327815   0.470196    0.0    0.00    0.0    1.00    1.0\n",
       "oldpeak   302.0    1.043046   1.161452    0.0    0.00    0.8    1.60    6.2\n",
       "slp       302.0    1.397351   0.616274    0.0    1.00    1.0    2.00    2.0\n",
       "caa       302.0    0.718543   1.006748    0.0    0.00    0.0    1.00    4.0\n",
       "thall     302.0    2.314570   0.613026    0.0    2.00    2.0    3.00    3.0\n",
       "output    302.0    0.543046   0.498970    0.0    0.00    1.0    1.00    1.0"
      ]
     },
     "execution_count": 304,
     "metadata": {
      "tags": []
     },
     "output_type": "execute_result"
    }
   ],
   "source": [
    "df.describe().transpose()"
   ]
  },
  {
   "cell_type": "markdown",
   "metadata": {
    "id": "n4zT1JyOicv6"
   },
   "source": [
    "**3.4 Afisam cate valori de 0 si 1 sunt pe coloana 'output'**"
   ]
  },
  {
   "cell_type": "code",
   "execution_count": 255,
   "metadata": {
    "colab": {
     "base_uri": "https://localhost:8080/",
     "height": 279
    },
    "executionInfo": {
     "elapsed": 9,
     "status": "ok",
     "timestamp": 1624470920847,
     "user": {
      "displayName": "Cristina Axente",
      "photoUrl": "",
      "userId": "11463701599394238483"
     },
     "user_tz": -180
    },
    "id": "OeelyBYFis1K",
    "outputId": "3c3ff0bd-4027-41f9-dc1a-a99f111c265b"
   },
   "outputs": [
    {
     "data": {
      "image/png": "[encoded data removed]",
      "text/plain": [
       "<Figure size 432x288 with 1 Axes>"
      ]
     },
     "metadata": {
      "needs_background": "light",
      "tags": []
     },
     "output_type": "display_data"
    }
   ],
   "source": [
    "sns.countplot(x=df['output']);"
   ]
  },
  {
   "cell_type": "markdown",
   "metadata": {
    "id": "p9yLqVA-jYWV"
   },
   "source": [
    "**3.5 Analizare date**"
   ]
  },
  {
   "cell_type": "code",
   "execution_count": 393,
   "metadata": {
    "colab": {
     "base_uri": "https://localhost:8080/",
     "height": 352
    },
    "executionInfo": {
     "elapsed": 909,
     "status": "ok",
     "timestamp": 1624475287733,
     "user": {
      "displayName": "Cristina Axente",
      "photoUrl": "",
      "userId": "11463701599394238483"
     },
     "user_tz": -180
    },
    "id": "7HZKuWyuRa-X",
    "outputId": "b0b2dedb-feda-4e5c-e798-30f9fd85c6ae"
   },
   "outputs": [
    {
     "data": {
      "text/plain": [
       "<matplotlib.axes._subplots.AxesSubplot at 0x7f5eda644310>"
      ]
     },
     "execution_count": 393,
     "metadata": {
      "tags": []
     },
     "output_type": "execute_result"
    },
    {
     "data": {
      "image/png": "[encoded data removed]",
      "text/plain": [
       "<Figure size 864x360 with 1 Axes>"
      ]
     },
     "metadata": {
      "needs_background": "light",
      "tags": []
     },
     "output_type": "display_data"
    }
   ],
   "source": [
    "plt.figure(figsize=(12, 5))\n",
    "sns.countplot(x=df['age'])"
   ]
  },
  {
   "cell_type": "code",
   "execution_count": 256,
   "metadata": {
    "colab": {
     "base_uri": "https://localhost:8080/",
     "height": 607
    },
    "executionInfo": {
     "elapsed": 2256,
     "status": "ok",
     "timestamp": 1624470924812,
     "user": {
      "displayName": "Cristina Axente",
      "photoUrl": "",
      "userId": "11463701599394238483"
     },
     "user_tz": -180
    },
    "id": "qx291kTMrsr0",
    "outputId": "024a3a07-be6c-4d4c-9a85-a63a822827fb"
   },
   "outputs": [
    {
     "data": {
      "image/png": "[encoded data removed]",
      "text/plain": [
       "<Figure size 1440x720 with 16 Axes>"
      ]
     },
     "metadata": {
      "needs_background": "light",
      "tags": []
     },
     "output_type": "display_data"
    }
   ],
   "source": [
    "df.hist(figsize=(20,10))\n",
    "plt.show()"
   ]
  },
  {
   "cell_type": "code",
   "execution_count": 257,
   "metadata": {
    "colab": {
     "base_uri": "https://localhost:8080/",
     "height": 297
    },
    "executionInfo": {
     "elapsed": 467,
     "status": "ok",
     "timestamp": 1624470951562,
     "user": {
      "displayName": "Cristina Axente",
      "photoUrl": "",
      "userId": "11463701599394238483"
     },
     "user_tz": -180
    },
    "id": "_q7qk2gSvvU7",
    "outputId": "a8010952-4dd6-4d68-a101-f6c62b164231"
   },
   "outputs": [
    {
     "data": {
      "text/plain": [
       "<matplotlib.axes._subplots.AxesSubplot at 0x7f5f1d746190>"
      ]
     },
     "execution_count": 257,
     "metadata": {
      "tags": []
     },
     "output_type": "execute_result"
    },
    {
     "data": {
      "image/png": "[encoded data removed]",
      "text/plain": [
       "<Figure size 432x288 with 1 Axes>"
      ]
     },
     "metadata": {
      "needs_background": "light",
      "tags": []
     },
     "output_type": "display_data"
    }
   ],
   "source": [
    "sns.countplot(x = df['sex'], hue=df['output'])"
   ]
  },
  {
   "cell_type": "code",
   "execution_count": 258,
   "metadata": {
    "colab": {
     "base_uri": "https://localhost:8080/",
     "height": 297
    },
    "executionInfo": {
     "elapsed": 1389,
     "status": "ok",
     "timestamp": 1624470953875,
     "user": {
      "displayName": "Cristina Axente",
      "photoUrl": "",
      "userId": "11463701599394238483"
     },
     "user_tz": -180
    },
    "id": "rjPAN6uVjmHZ",
    "outputId": "98e957ec-b662-47fd-8e4e-d7629925d062"
   },
   "outputs": [
    {
     "data": {
      "text/plain": [
       "<matplotlib.axes._subplots.AxesSubplot at 0x7f5f1d68b3d0>"
      ]
     },
     "execution_count": 258,
     "metadata": {
      "tags": []
     },
     "output_type": "execute_result"
    },
    {
     "data": {
      "image/png": "[encoded data removed]",
      "text/plain": [
       "<Figure size 432x288 with 1 Axes>"
      ]
     },
     "metadata": {
      "needs_background": "light",
      "tags": []
     },
     "output_type": "display_data"
    }
   ],
   "source": [
    "sns.countplot(x = df['cp'], hue=df['output'])"
   ]
  },
  {
   "cell_type": "code",
   "execution_count": 259,
   "metadata": {
    "colab": {
     "base_uri": "https://localhost:8080/",
     "height": 297
    },
    "executionInfo": {
     "elapsed": 7,
     "status": "ok",
     "timestamp": 1624470954246,
     "user": {
      "displayName": "Cristina Axente",
      "photoUrl": "",
      "userId": "11463701599394238483"
     },
     "user_tz": -180
    },
    "id": "joCiEzpajy3i",
    "outputId": "293906f7-5ae3-4fa7-9053-c818e5922968"
   },
   "outputs": [
    {
     "data": {
      "text/plain": [
       "<matplotlib.axes._subplots.AxesSubplot at 0x7f5f1d659390>"
      ]
     },
     "execution_count": 259,
     "metadata": {
      "tags": []
     },
     "output_type": "execute_result"
    },
    {
     "data": {
      "image/png": "[encoded data removed]",
      "text/plain": [
       "<Figure size 432x288 with 1 Axes>"
      ]
     },
     "metadata": {
      "needs_background": "light",
      "tags": []
     },
     "output_type": "display_data"
    }
   ],
   "source": [
    "sns.countplot(x = df['fbs'], hue=df['output'])"
   ]
  },
  {
   "cell_type": "code",
   "execution_count": 260,
   "metadata": {
    "colab": {
     "base_uri": "https://localhost:8080/",
     "height": 297
    },
    "executionInfo": {
     "elapsed": 390,
     "status": "ok",
     "timestamp": 1624470956434,
     "user": {
      "displayName": "Cristina Axente",
      "photoUrl": "",
      "userId": "11463701599394238483"
     },
     "user_tz": -180
    },
    "id": "wqI4JFHQj6bs",
    "outputId": "7bad10c5-14cc-4429-d569-ba8110dee5e0"
   },
   "outputs": [
    {
     "data": {
      "text/plain": [
       "<matplotlib.axes._subplots.AxesSubplot at 0x7f5f1d578ad0>"
      ]
     },
     "execution_count": 260,
     "metadata": {
      "tags": []
     },
     "output_type": "execute_result"
    },
    {
     "data": {
      "image/png": "[encoded data removed]",
      "text/plain": [
       "<Figure size 432x288 with 1 Axes>"
      ]
     },
     "metadata": {
      "needs_background": "light",
      "tags": []
     },
     "output_type": "display_data"
    }
   ],
   "source": [
    "sns.countplot(x = df['restecg'], hue=df['output'])"
   ]
  },
  {
   "cell_type": "code",
   "execution_count": 261,
   "metadata": {
    "colab": {
     "base_uri": "https://localhost:8080/",
     "height": 297
    },
    "executionInfo": {
     "elapsed": 701,
     "status": "ok",
     "timestamp": 1624470958413,
     "user": {
      "displayName": "Cristina Axente",
      "photoUrl": "",
      "userId": "11463701599394238483"
     },
     "user_tz": -180
    },
    "id": "AHcdDkmYj9P6",
    "outputId": "0bf92d3d-809e-4541-b835-db5cce762d19"
   },
   "outputs": [
    {
     "data": {
      "text/plain": [
       "<matplotlib.axes._subplots.AxesSubplot at 0x7f5f1d5e5490>"
      ]
     },
     "execution_count": 261,
     "metadata": {
      "tags": []
     },
     "output_type": "execute_result"
    },
    {
     "data": {
      "image/png": "[encoded data removed]",
      "text/plain": [
       "<Figure size 432x288 with 1 Axes>"
      ]
     },
     "metadata": {
      "needs_background": "light",
      "tags": []
     },
     "output_type": "display_data"
    }
   ],
   "source": [
    "sns.countplot(x = df['exng'], hue=df['output'])"
   ]
  },
  {
   "cell_type": "code",
   "execution_count": 262,
   "metadata": {
    "colab": {
     "base_uri": "https://localhost:8080/",
     "height": 297
    },
    "executionInfo": {
     "elapsed": 8,
     "status": "ok",
     "timestamp": 1624470958807,
     "user": {
      "displayName": "Cristina Axente",
      "photoUrl": "",
      "userId": "11463701599394238483"
     },
     "user_tz": -180
    },
    "id": "8mBmidbokAua",
    "outputId": "2d703d57-0a6a-4432-8993-cc7efc5a80a8"
   },
   "outputs": [
    {
     "data": {
      "text/plain": [
       "<matplotlib.axes._subplots.AxesSubplot at 0x7f5f1d528950>"
      ]
     },
     "execution_count": 262,
     "metadata": {
      "tags": []
     },
     "output_type": "execute_result"
    },
    {
     "data": {
      "image/png": "[encoded data removed]",
      "text/plain": [
       "<Figure size 432x288 with 1 Axes>"
      ]
     },
     "metadata": {
      "needs_background": "light",
      "tags": []
     },
     "output_type": "display_data"
    }
   ],
   "source": [
    "sns.countplot(x = df['slp'], hue=df['output'])"
   ]
  },
  {
   "cell_type": "code",
   "execution_count": 263,
   "metadata": {
    "colab": {
     "base_uri": "https://localhost:8080/",
     "height": 297
    },
    "executionInfo": {
     "elapsed": 11,
     "status": "ok",
     "timestamp": 1624470960521,
     "user": {
      "displayName": "Cristina Axente",
      "photoUrl": "",
      "userId": "11463701599394238483"
     },
     "user_tz": -180
    },
    "id": "Z_rdanW2kF57",
    "outputId": "aa5194b4-45ed-4d05-b4ea-8c3fa1e1d695"
   },
   "outputs": [
    {
     "data": {
      "text/plain": [
       "<matplotlib.axes._subplots.AxesSubplot at 0x7f5f1d4bf550>"
      ]
     },
     "execution_count": 263,
     "metadata": {
      "tags": []
     },
     "output_type": "execute_result"
    },
    {
     "data": {
      "image/png": "[encoded data removed]",
      "text/plain": [
       "<Figure size 432x288 with 1 Axes>"
      ]
     },
     "metadata": {
      "needs_background": "light",
      "tags": []
     },
     "output_type": "display_data"
    }
   ],
   "source": [
    "sns.countplot(x = df['caa'], hue=df['output'])"
   ]
  },
  {
   "cell_type": "code",
   "execution_count": 264,
   "metadata": {
    "colab": {
     "base_uri": "https://localhost:8080/",
     "height": 297
    },
    "executionInfo": {
     "elapsed": 7,
     "status": "ok",
     "timestamp": 1624470961031,
     "user": {
      "displayName": "Cristina Axente",
      "photoUrl": "",
      "userId": "11463701599394238483"
     },
     "user_tz": -180
    },
    "id": "_Tw-xbnNwMbW",
    "outputId": "288ab5b3-150d-4dac-dc5b-2b6118d0542e"
   },
   "outputs": [
    {
     "data": {
      "text/plain": [
       "<matplotlib.axes._subplots.AxesSubplot at 0x7f5f1d3bd910>"
      ]
     },
     "execution_count": 264,
     "metadata": {
      "tags": []
     },
     "output_type": "execute_result"
    },
    {
     "data": {
      "image/png": "[encoded data removed]",
      "text/plain": [
       "<Figure size 432x288 with 1 Axes>"
      ]
     },
     "metadata": {
      "needs_background": "light",
      "tags": []
     },
     "output_type": "display_data"
    }
   ],
   "source": [
    "sns.countplot(x = df['thall'], hue=df['output'])"
   ]
  },
  {
   "cell_type": "code",
   "execution_count": 397,
   "metadata": {
    "colab": {
     "base_uri": "https://localhost:8080/",
     "height": 387
    },
    "executionInfo": {
     "elapsed": 961,
     "status": "ok",
     "timestamp": 1624476230049,
     "user": {
      "displayName": "Cristina Axente",
      "photoUrl": "",
      "userId": "11463701599394238483"
     },
     "user_tz": -180
    },
    "id": "aa9eTTyHt8cx",
    "outputId": "67cd48bb-35a1-480b-b628-eceb3d7c3e17"
   },
   "outputs": [
    {
     "data": {
      "text/plain": [
       "<seaborn.axisgrid.FacetGrid at 0x7f5ed94bb490>"
      ]
     },
     "execution_count": 397,
     "metadata": {
      "tags": []
     },
     "output_type": "execute_result"
    },
    {
     "data": {
      "image/png": "[encoded data removed]",
      "text/plain": [
       "<Figure size 402.375x360 with 1 Axes>"
      ]
     },
     "metadata": {
      "needs_background": "light",
      "tags": []
     },
     "output_type": "display_data"
    }
   ],
   "source": [
    "sns.displot(x=df['age'], hue=df['output'])"
   ]
  },
  {
   "cell_type": "markdown",
   "metadata": {
    "id": "jAP_GSCTkQxi"
   },
   "source": [
    "# **4. Analizarea datelor cu ajutorul lui SparkSQL**"
   ]
  },
  {
   "cell_type": "code",
   "execution_count": 265,
   "metadata": {
    "executionInfo": {
     "elapsed": 421,
     "status": "ok",
     "timestamp": 1624470963624,
     "user": {
      "displayName": "Cristina Axente",
      "photoUrl": "",
      "userId": "11463701599394238483"
     },
     "user_tz": -180
    },
    "id": "Q7AP-yWRkPDq"
   },
   "outputs": [],
   "source": [
    "spark1 = SparkSession.builder.appName('SQL').getOrCreate()"
   ]
  },
  {
   "cell_type": "code",
   "execution_count": 266,
   "metadata": {
    "executionInfo": {
     "elapsed": 383,
     "status": "ok",
     "timestamp": 1624470964375,
     "user": {
      "displayName": "Cristina Axente",
      "photoUrl": "",
      "userId": "11463701599394238483"
     },
     "user_tz": -180
    },
    "id": "k8Ly81nCknLU"
   },
   "outputs": [],
   "source": [
    "df_sql = spark1.read.csv('/content/sample_data/heart.csv',inferSchema=True,header=True)"
   ]
  },
  {
   "cell_type": "code",
   "execution_count": 267,
   "metadata": {
    "colab": {
     "base_uri": "https://localhost:8080/"
    },
    "executionInfo": {
     "elapsed": 4,
     "status": "ok",
     "timestamp": 1624470965305,
     "user": {
      "displayName": "Cristina Axente",
      "photoUrl": "",
      "userId": "11463701599394238483"
     },
     "user_tz": -180
    },
    "id": "fTs4lEQJkvYy",
    "outputId": "be5429b3-08bb-4729-e5ff-c5528e2866cb"
   },
   "outputs": [
    {
     "name": "stdout",
     "output_type": "stream",
     "text": [
      "root\n",
      " |-- age: integer (nullable = true)\n",
      " |-- sex: integer (nullable = true)\n",
      " |-- cp: integer (nullable = true)\n",
      " |-- trtbps: integer (nullable = true)\n",
      " |-- chol: integer (nullable = true)\n",
      " |-- fbs: integer (nullable = true)\n",
      " |-- restecg: integer (nullable = true)\n",
      " |-- thalachh: integer (nullable = true)\n",
      " |-- exng: integer (nullable = true)\n",
      " |-- oldpeak: double (nullable = true)\n",
      " |-- slp: integer (nullable = true)\n",
      " |-- caa: integer (nullable = true)\n",
      " |-- thall: integer (nullable = true)\n",
      " |-- output: integer (nullable = true)\n",
      "\n"
     ]
    }
   ],
   "source": [
    "df_sql.printSchema()"
   ]
  },
  {
   "cell_type": "code",
   "execution_count": 268,
   "metadata": {
    "executionInfo": {
     "elapsed": 3,
     "status": "ok",
     "timestamp": 1624470966617,
     "user": {
      "displayName": "Cristina Axente",
      "photoUrl": "",
      "userId": "11463701599394238483"
     },
     "user_tz": -180
    },
    "id": "XfGsjEMhk1-D"
   },
   "outputs": [],
   "source": [
    "df_sql.createOrReplaceTempView('heart')"
   ]
  },
  {
   "cell_type": "code",
   "execution_count": 269,
   "metadata": {
    "colab": {
     "base_uri": "https://localhost:8080/"
    },
    "executionInfo": {
     "elapsed": 7,
     "status": "ok",
     "timestamp": 1624470967232,
     "user": {
      "displayName": "Cristina Axente",
      "photoUrl": "",
      "userId": "11463701599394238483"
     },
     "user_tz": -180
    },
    "id": "2eiervI8lJr6",
    "outputId": "581a2b2c-427f-4265-8519-498a1ec82e30"
   },
   "outputs": [
    {
     "name": "stdout",
     "output_type": "stream",
     "text": [
      "+-------------+\n",
      "|count(output)|\n",
      "+-------------+\n",
      "|          165|\n",
      "+-------------+\n",
      "\n"
     ]
    }
   ],
   "source": [
    "result = spark1.sql(\"select count(output) from heart where output = 1\")\n",
    "result.show()"
   ]
  },
  {
   "cell_type": "code",
   "execution_count": 171,
   "metadata": {
    "colab": {
     "base_uri": "https://localhost:8080/"
    },
    "executionInfo": {
     "elapsed": 3,
     "status": "ok",
     "timestamp": 1624470085595,
     "user": {
      "displayName": "Cristina Axente",
      "photoUrl": "",
      "userId": "11463701599394238483"
     },
     "user_tz": -180
    },
    "id": "EbKuIMWtlPPK",
    "outputId": "5ceab27d-ace3-46ed-c439-0891cc7e5a44"
   },
   "outputs": [
    {
     "name": "stdout",
     "output_type": "stream",
     "text": [
      "+-------------+\n",
      "|count(output)|\n",
      "+-------------+\n",
      "|          138|\n",
      "+-------------+\n",
      "\n"
     ]
    }
   ],
   "source": [
    "result = spark1.sql(\"select count(output) from heart where output = 0\")\n",
    "result.show()"
   ]
  },
  {
   "cell_type": "code",
   "execution_count": 172,
   "metadata": {
    "colab": {
     "base_uri": "https://localhost:8080/"
    },
    "executionInfo": {
     "elapsed": 1825,
     "status": "ok",
     "timestamp": 1624470088617,
     "user": {
      "displayName": "Cristina Axente",
      "photoUrl": "",
      "userId": "11463701599394238483"
     },
     "user_tz": -180
    },
    "id": "vAoN41mnuhUz",
    "outputId": "55b0ad01-78b8-4906-b6da-1a8847861151"
   },
   "outputs": [
    {
     "name": "stdout",
     "output_type": "stream",
     "text": [
      "+------+------+-------------+\n",
      "|trtbps|output|count(output)|\n",
      "+------+------+-------------+\n",
      "|   120|     1|           23|\n",
      "|   130|     1|           23|\n",
      "|   140|     1|           17|\n",
      "|   140|     0|           15|\n",
      "|   120|     0|           14|\n",
      "|   130|     0|           13|\n",
      "|   110|     0|           11|\n",
      "|   138|     1|           10|\n",
      "|   150|     1|            9|\n",
      "|   150|     0|            8|\n",
      "|   110|     1|            8|\n",
      "|   125|     0|            7|\n",
      "|   128|     1|            6|\n",
      "|   160|     0|            6|\n",
      "|   128|     0|            6|\n",
      "|   160|     1|            5|\n",
      "|   112|     1|            5|\n",
      "|   135|     1|            5|\n",
      "|   118|     1|            5|\n",
      "|   132|     0|            5|\n",
      "+------+------+-------------+\n",
      "only showing top 20 rows\n",
      "\n"
     ]
    }
   ],
   "source": [
    "result = spark1.sql(\"select trtbps, output, count(output) from heart group by trtbps, output order by 3 desc\")\n",
    "result.show()"
   ]
  },
  {
   "cell_type": "code",
   "execution_count": 271,
   "metadata": {
    "colab": {
     "base_uri": "https://localhost:8080/",
     "height": 387
    },
    "executionInfo": {
     "elapsed": 9,
     "status": "ok",
     "timestamp": 1624470973385,
     "user": {
      "displayName": "Cristina Axente",
      "photoUrl": "",
      "userId": "11463701599394238483"
     },
     "user_tz": -180
    },
    "id": "B4IwWjz0yOw3",
    "outputId": "6175ece3-17dd-4611-e964-ba3975451822"
   },
   "outputs": [
    {
     "data": {
      "text/plain": [
       "<seaborn.axisgrid.FacetGrid at 0x7f5f1d4af0d0>"
      ]
     },
     "execution_count": 271,
     "metadata": {
      "tags": []
     },
     "output_type": "execute_result"
    },
    {
     "data": {
      "image/png": "[encoded data removed]",
      "text/plain": [
       "<Figure size 360x360 with 1 Axes>"
      ]
     },
     "metadata": {
      "needs_background": "light",
      "tags": []
     },
     "output_type": "display_data"
    }
   ],
   "source": [
    "sns.displot(df[\"trtbps\"])"
   ]
  },
  {
   "cell_type": "code",
   "execution_count": 175,
   "metadata": {
    "colab": {
     "base_uri": "https://localhost:8080/"
    },
    "executionInfo": {
     "elapsed": 1792,
     "status": "ok",
     "timestamp": 1624470092838,
     "user": {
      "displayName": "Cristina Axente",
      "photoUrl": "",
      "userId": "11463701599394238483"
     },
     "user_tz": -180
    },
    "id": "ZXQMkNL4vZiV",
    "outputId": "de866243-8c3f-4c70-a16f-fc7a5bdb01ee"
   },
   "outputs": [
    {
     "name": "stdout",
     "output_type": "stream",
     "text": [
      "+----+------+-------------+\n",
      "|chol|output|count(output)|\n",
      "+----+------+-------------+\n",
      "| 226|     1|            4|\n",
      "| 254|     0|            4|\n",
      "| 282|     0|            4|\n",
      "| 240|     1|            4|\n",
      "| 234|     1|            4|\n",
      "| 212|     0|            4|\n",
      "| 204|     1|            4|\n",
      "| 197|     1|            4|\n",
      "| 211|     1|            4|\n",
      "| 269|     1|            3|\n",
      "| 201|     1|            3|\n",
      "| 220|     1|            3|\n",
      "| 245|     1|            3|\n",
      "| 230|     0|            3|\n",
      "| 229|     0|            3|\n",
      "| 274|     0|            3|\n",
      "| 303|     1|            3|\n",
      "| 175|     1|            3|\n",
      "| 199|     1|            3|\n",
      "| 250|     1|            3|\n",
      "+----+------+-------------+\n",
      "only showing top 20 rows\n",
      "\n"
     ]
    }
   ],
   "source": [
    "result = spark1.sql(\"select chol, output, count(output) from heart group by chol, output order by 3 desc\")\n",
    "result.show()"
   ]
  },
  {
   "cell_type": "code",
   "execution_count": 272,
   "metadata": {
    "colab": {
     "base_uri": "https://localhost:8080/",
     "height": 387
    },
    "executionInfo": {
     "elapsed": 1181,
     "status": "ok",
     "timestamp": 1624470976767,
     "user": {
      "displayName": "Cristina Axente",
      "photoUrl": "",
      "userId": "11463701599394238483"
     },
     "user_tz": -180
    },
    "id": "wPEI4fjsyJZ0",
    "outputId": "df55f2fc-8023-4936-f84e-23a411a21615"
   },
   "outputs": [
    {
     "data": {
      "text/plain": [
       "<seaborn.axisgrid.FacetGrid at 0x7f5f1d3c6c10>"
      ]
     },
     "execution_count": 272,
     "metadata": {
      "tags": []
     },
     "output_type": "execute_result"
    },
    {
     "data": {
      "image/png": "[encoded data removed]",
      "text/plain": [
       "<Figure size 360x360 with 1 Axes>"
      ]
     },
     "metadata": {
      "needs_background": "light",
      "tags": []
     },
     "output_type": "display_data"
    }
   ],
   "source": [
    "sns.displot(df[\"chol\"])"
   ]
  },
  {
   "cell_type": "code",
   "execution_count": 178,
   "metadata": {
    "colab": {
     "base_uri": "https://localhost:8080/"
    },
    "executionInfo": {
     "elapsed": 1396,
     "status": "ok",
     "timestamp": 1624470096551,
     "user": {
      "displayName": "Cristina Axente",
      "photoUrl": "",
      "userId": "11463701599394238483"
     },
     "user_tz": -180
    },
    "id": "QkAVvvIfvla9",
    "outputId": "b11daefd-786e-4fa3-bc76-f41128cb3b1f"
   },
   "outputs": [
    {
     "name": "stdout",
     "output_type": "stream",
     "text": [
      "+--------+------+-------------+\n",
      "|thalachh|output|count(output)|\n",
      "+--------+------+-------------+\n",
      "|     162|     1|            8|\n",
      "|     163|     1|            7|\n",
      "|     172|     1|            7|\n",
      "|     132|     0|            6|\n",
      "|     152|     1|            6|\n",
      "|     173|     1|            6|\n",
      "|     150|     0|            5|\n",
      "|     160|     1|            5|\n",
      "|     125|     0|            5|\n",
      "|     144|     0|            5|\n",
      "|     178|     1|            5|\n",
      "|     179|     1|            5|\n",
      "|     182|     1|            4|\n",
      "|     142|     0|            4|\n",
      "|     151|     1|            4|\n",
      "|     169|     1|            4|\n",
      "|     140|     0|            4|\n",
      "|     157|     1|            4|\n",
      "|     143|     1|            4|\n",
      "|     170|     1|            4|\n",
      "+--------+------+-------------+\n",
      "only showing top 20 rows\n",
      "\n"
     ]
    }
   ],
   "source": [
    "result = spark1.sql(\"select thalachh, output, count(output) from heart group by thalachh, output order by 3 desc\")\n",
    "result.show()"
   ]
  },
  {
   "cell_type": "code",
   "execution_count": 274,
   "metadata": {
    "colab": {
     "base_uri": "https://localhost:8080/",
     "height": 387
    },
    "executionInfo": {
     "elapsed": 429,
     "status": "ok",
     "timestamp": 1624470980228,
     "user": {
      "displayName": "Cristina Axente",
      "photoUrl": "",
      "userId": "11463701599394238483"
     },
     "user_tz": -180
    },
    "id": "3nYvNv0Vxzb3",
    "outputId": "438fec19-ede1-411e-c9a3-5f46b720cee0"
   },
   "outputs": [
    {
     "data": {
      "text/plain": [
       "<seaborn.axisgrid.FacetGrid at 0x7f5f1fd31cd0>"
      ]
     },
     "execution_count": 274,
     "metadata": {
      "tags": []
     },
     "output_type": "execute_result"
    },
    {
     "data": {
      "image/png": "[encoded data removed]",
      "text/plain": [
       "<Figure size 360x360 with 1 Axes>"
      ]
     },
     "metadata": {
      "needs_background": "light",
      "tags": []
     },
     "output_type": "display_data"
    }
   ],
   "source": [
    "sns.displot(df[\"thalachh\"])"
   ]
  },
  {
   "cell_type": "code",
   "execution_count": 181,
   "metadata": {
    "colab": {
     "base_uri": "https://localhost:8080/"
    },
    "executionInfo": {
     "elapsed": 1627,
     "status": "ok",
     "timestamp": 1624470101754,
     "user": {
      "displayName": "Cristina Axente",
      "photoUrl": "",
      "userId": "11463701599394238483"
     },
     "user_tz": -180
    },
    "id": "ZBaxRtQKwcYr",
    "outputId": "1dd8c012-a886-4c32-f394-eb981d4ff6ef"
   },
   "outputs": [
    {
     "name": "stdout",
     "output_type": "stream",
     "text": [
      "+-------+------+-------------+\n",
      "|oldpeak|output|count(output)|\n",
      "+-------+------+-------------+\n",
      "|    0.0|     1|           74|\n",
      "|    0.0|     0|           25|\n",
      "|    1.0|     0|           10|\n",
      "|    0.6|     1|           10|\n",
      "|    1.2|     0|           10|\n",
      "|    0.2|     1|            9|\n",
      "|    0.4|     1|            8|\n",
      "|    0.8|     1|            7|\n",
      "|    2.0|     0|            7|\n",
      "|    1.2|     1|            7|\n",
      "|    1.6|     1|            7|\n",
      "|    1.4|     0|            7|\n",
      "|    1.8|     0|            7|\n",
      "|    1.4|     1|            6|\n",
      "|    2.8|     0|            6|\n",
      "|    0.8|     0|            6|\n",
      "|    2.6|     0|            5|\n",
      "|    1.0|     1|            4|\n",
      "|    0.5|     1|            4|\n",
      "|    1.5|     1|            4|\n",
      "+-------+------+-------------+\n",
      "only showing top 20 rows\n",
      "\n"
     ]
    }
   ],
   "source": [
    "result = spark1.sql(\"select oldpeak, output, count(output) from heart group by oldpeak, output order by 3 desc\")\n",
    "result.show()"
   ]
  },
  {
   "cell_type": "code",
   "execution_count": 276,
   "metadata": {
    "colab": {
     "base_uri": "https://localhost:8080/",
     "height": 387
    },
    "executionInfo": {
     "elapsed": 17,
     "status": "ok",
     "timestamp": 1624470984271,
     "user": {
      "displayName": "Cristina Axente",
      "photoUrl": "",
      "userId": "11463701599394238483"
     },
     "user_tz": -180
    },
    "id": "O4lGt8Ybx-yU",
    "outputId": "9a6f713d-1aae-4058-9093-2018866c4f51"
   },
   "outputs": [
    {
     "data": {
      "text/plain": [
       "<seaborn.axisgrid.FacetGrid at 0x7f5f201b5990>"
      ]
     },
     "execution_count": 276,
     "metadata": {
      "tags": []
     },
     "output_type": "execute_result"
    },
    {
     "data": {
      "image/png": "[encoded data removed]",
      "text/plain": [
       "<Figure size 360x360 with 1 Axes>"
      ]
     },
     "metadata": {
      "needs_background": "light",
      "tags": []
     },
     "output_type": "display_data"
    }
   ],
   "source": [
    "sns.displot(df[\"oldpeak\"])"
   ]
  },
  {
   "cell_type": "markdown",
   "metadata": {
    "id": "gAw6jBmc0ZrD"
   },
   "source": [
    "# **5. ML Method**"
   ]
  },
  {
   "cell_type": "code",
   "execution_count": 306,
   "metadata": {
    "executionInfo": {
     "elapsed": 5,
     "status": "ok",
     "timestamp": 1624471112556,
     "user": {
      "displayName": "Cristina Axente",
      "photoUrl": "",
      "userId": "11463701599394238483"
     },
     "user_tz": -180
    },
    "id": "5OguZcJV05YO"
   },
   "outputs": [],
   "source": [
    "from pyspark.ml.linalg import Vectors\n",
    "from pyspark.ml.feature import VectorAssembler"
   ]
  },
  {
   "cell_type": "code",
   "execution_count": 279,
   "metadata": {
    "executionInfo": {
     "elapsed": 488,
     "status": "ok",
     "timestamp": 1624470991921,
     "user": {
      "displayName": "Cristina Axente",
      "photoUrl": "",
      "userId": "11463701599394238483"
     },
     "user_tz": -180
    },
    "id": "3TBgnBRT4I_d"
   },
   "outputs": [],
   "source": [
    "#df.drop(['sex'], axis = 1, inplace = True)"
   ]
  },
  {
   "cell_type": "code",
   "execution_count": 307,
   "metadata": {
    "executionInfo": {
     "elapsed": 5,
     "status": "ok",
     "timestamp": 1624471113949,
     "user": {
      "displayName": "Cristina Axente",
      "photoUrl": "",
      "userId": "11463701599394238483"
     },
     "user_tz": -180
    },
    "id": "_kQnS8jU4Skd"
   },
   "outputs": [],
   "source": [
    "x_data = df.iloc[:,:-1]"
   ]
  },
  {
   "cell_type": "code",
   "execution_count": 308,
   "metadata": {
    "colab": {
     "base_uri": "https://localhost:8080/",
     "height": 418
    },
    "executionInfo": {
     "elapsed": 514,
     "status": "ok",
     "timestamp": 1624471115719,
     "user": {
      "displayName": "Cristina Axente",
      "photoUrl": "",
      "userId": "11463701599394238483"
     },
     "user_tz": -180
    },
    "id": "e3jhUHKP_UUQ",
    "outputId": "8aeb1de7-3ed6-4691-9991-17d14c66b461"
   },
   "outputs": [
    {
     "data": {
      "text/html": [
       "<div>\n",
       "<style scoped>\n",
       "    .dataframe tbody tr th:only-of-type {\n",
       "        vertical-align: middle;\n",
       "    }\n",
       "\n",
       "    .dataframe tbody tr th {\n",
       "        vertical-align: top;\n",
       "    }\n",
       "\n",
       "    .dataframe thead th {\n",
       "        text-align: right;\n",
       "    }\n",
       "</style>\n",
       "<table border=\"1\" class=\"dataframe\">\n",
       "  <thead>\n",
       "    <tr style=\"text-align: right;\">\n",
       "      <th></th>\n",
       "      <th>age</th>\n",
       "      <th>sex</th>\n",
       "      <th>cp</th>\n",
       "      <th>trtbps</th>\n",
       "      <th>chol</th>\n",
       "      <th>fbs</th>\n",
       "      <th>restecg</th>\n",
       "      <th>thalachh</th>\n",
       "      <th>exng</th>\n",
       "      <th>oldpeak</th>\n",
       "      <th>slp</th>\n",
       "      <th>caa</th>\n",
       "      <th>thall</th>\n",
       "    </tr>\n",
       "  </thead>\n",
       "  <tbody>\n",
       "    <tr>\n",
       "      <th>0</th>\n",
       "      <td>63</td>\n",
       "      <td>1</td>\n",
       "      <td>3</td>\n",
       "      <td>145</td>\n",
       "      <td>233</td>\n",
       "      <td>1</td>\n",
       "      <td>0</td>\n",
       "      <td>150</td>\n",
       "      <td>0</td>\n",
       "      <td>2.3</td>\n",
       "      <td>0</td>\n",
       "      <td>0</td>\n",
       "      <td>1</td>\n",
       "    </tr>\n",
       "    <tr>\n",
       "      <th>1</th>\n",
       "      <td>37</td>\n",
       "      <td>1</td>\n",
       "      <td>2</td>\n",
       "      <td>130</td>\n",
       "      <td>250</td>\n",
       "      <td>0</td>\n",
       "      <td>1</td>\n",
       "      <td>187</td>\n",
       "      <td>0</td>\n",
       "      <td>3.5</td>\n",
       "      <td>0</td>\n",
       "      <td>0</td>\n",
       "      <td>2</td>\n",
       "    </tr>\n",
       "    <tr>\n",
       "      <th>2</th>\n",
       "      <td>41</td>\n",
       "      <td>0</td>\n",
       "      <td>1</td>\n",
       "      <td>130</td>\n",
       "      <td>204</td>\n",
       "      <td>0</td>\n",
       "      <td>0</td>\n",
       "      <td>172</td>\n",
       "      <td>0</td>\n",
       "      <td>1.4</td>\n",
       "      <td>2</td>\n",
       "      <td>0</td>\n",
       "      <td>2</td>\n",
       "    </tr>\n",
       "    <tr>\n",
       "      <th>3</th>\n",
       "      <td>56</td>\n",
       "      <td>1</td>\n",
       "      <td>1</td>\n",
       "      <td>120</td>\n",
       "      <td>236</td>\n",
       "      <td>0</td>\n",
       "      <td>1</td>\n",
       "      <td>178</td>\n",
       "      <td>0</td>\n",
       "      <td>0.8</td>\n",
       "      <td>2</td>\n",
       "      <td>0</td>\n",
       "      <td>2</td>\n",
       "    </tr>\n",
       "    <tr>\n",
       "      <th>4</th>\n",
       "      <td>57</td>\n",
       "      <td>0</td>\n",
       "      <td>0</td>\n",
       "      <td>120</td>\n",
       "      <td>354</td>\n",
       "      <td>0</td>\n",
       "      <td>1</td>\n",
       "      <td>163</td>\n",
       "      <td>1</td>\n",
       "      <td>0.6</td>\n",
       "      <td>2</td>\n",
       "      <td>0</td>\n",
       "      <td>2</td>\n",
       "    </tr>\n",
       "    <tr>\n",
       "      <th>...</th>\n",
       "      <td>...</td>\n",
       "      <td>...</td>\n",
       "      <td>...</td>\n",
       "      <td>...</td>\n",
       "      <td>...</td>\n",
       "      <td>...</td>\n",
       "      <td>...</td>\n",
       "      <td>...</td>\n",
       "      <td>...</td>\n",
       "      <td>...</td>\n",
       "      <td>...</td>\n",
       "      <td>...</td>\n",
       "      <td>...</td>\n",
       "    </tr>\n",
       "    <tr>\n",
       "      <th>298</th>\n",
       "      <td>57</td>\n",
       "      <td>0</td>\n",
       "      <td>0</td>\n",
       "      <td>140</td>\n",
       "      <td>241</td>\n",
       "      <td>0</td>\n",
       "      <td>1</td>\n",
       "      <td>123</td>\n",
       "      <td>1</td>\n",
       "      <td>0.2</td>\n",
       "      <td>1</td>\n",
       "      <td>0</td>\n",
       "      <td>3</td>\n",
       "    </tr>\n",
       "    <tr>\n",
       "      <th>299</th>\n",
       "      <td>45</td>\n",
       "      <td>1</td>\n",
       "      <td>3</td>\n",
       "      <td>110</td>\n",
       "      <td>264</td>\n",
       "      <td>0</td>\n",
       "      <td>1</td>\n",
       "      <td>132</td>\n",
       "      <td>0</td>\n",
       "      <td>1.2</td>\n",
       "      <td>1</td>\n",
       "      <td>0</td>\n",
       "      <td>3</td>\n",
       "    </tr>\n",
       "    <tr>\n",
       "      <th>300</th>\n",
       "      <td>68</td>\n",
       "      <td>1</td>\n",
       "      <td>0</td>\n",
       "      <td>144</td>\n",
       "      <td>193</td>\n",
       "      <td>1</td>\n",
       "      <td>1</td>\n",
       "      <td>141</td>\n",
       "      <td>0</td>\n",
       "      <td>3.4</td>\n",
       "      <td>1</td>\n",
       "      <td>2</td>\n",
       "      <td>3</td>\n",
       "    </tr>\n",
       "    <tr>\n",
       "      <th>301</th>\n",
       "      <td>57</td>\n",
       "      <td>1</td>\n",
       "      <td>0</td>\n",
       "      <td>130</td>\n",
       "      <td>131</td>\n",
       "      <td>0</td>\n",
       "      <td>1</td>\n",
       "      <td>115</td>\n",
       "      <td>1</td>\n",
       "      <td>1.2</td>\n",
       "      <td>1</td>\n",
       "      <td>1</td>\n",
       "      <td>3</td>\n",
       "    </tr>\n",
       "    <tr>\n",
       "      <th>302</th>\n",
       "      <td>57</td>\n",
       "      <td>0</td>\n",
       "      <td>1</td>\n",
       "      <td>130</td>\n",
       "      <td>236</td>\n",
       "      <td>0</td>\n",
       "      <td>0</td>\n",
       "      <td>174</td>\n",
       "      <td>0</td>\n",
       "      <td>0.0</td>\n",
       "      <td>1</td>\n",
       "      <td>1</td>\n",
       "      <td>2</td>\n",
       "    </tr>\n",
       "  </tbody>\n",
       "</table>\n",
       "<p>302 rows × 13 columns</p>\n",
       "</div>"
      ],
      "text/plain": [
       "     age  sex  cp  trtbps  chol  fbs  ...  thalachh  exng  oldpeak  slp  caa  thall\n",
       "0     63    1   3     145   233    1  ...       150     0      2.3    0    0      1\n",
       "1     37    1   2     130   250    0  ...       187     0      3.5    0    0      2\n",
       "2     41    0   1     130   204    0  ...       172     0      1.4    2    0      2\n",
       "3     56    1   1     120   236    0  ...       178     0      0.8    2    0      2\n",
       "4     57    0   0     120   354    0  ...       163     1      0.6    2    0      2\n",
       "..   ...  ...  ..     ...   ...  ...  ...       ...   ...      ...  ...  ...    ...\n",
       "298   57    0   0     140   241    0  ...       123     1      0.2    1    0      3\n",
       "299   45    1   3     110   264    0  ...       132     0      1.2    1    0      3\n",
       "300   68    1   0     144   193    1  ...       141     0      3.4    1    2      3\n",
       "301   57    1   0     130   131    0  ...       115     1      1.2    1    1      3\n",
       "302   57    0   1     130   236    0  ...       174     0      0.0    1    1      2\n",
       "\n",
       "[302 rows x 13 columns]"
      ]
     },
     "execution_count": 308,
     "metadata": {
      "tags": []
     },
     "output_type": "execute_result"
    }
   ],
   "source": [
    "x_data"
   ]
  },
  {
   "cell_type": "code",
   "execution_count": 310,
   "metadata": {
    "executionInfo": {
     "elapsed": 467,
     "status": "ok",
     "timestamp": 1624471124859,
     "user": {
      "displayName": "Cristina Axente",
      "photoUrl": "",
      "userId": "11463701599394238483"
     },
     "user_tz": -180
    },
    "id": "h1jK4GN04ZRT"
   },
   "outputs": [],
   "source": [
    "y_data = df.iloc[:,-1:]"
   ]
  },
  {
   "cell_type": "code",
   "execution_count": 311,
   "metadata": {
    "executionInfo": {
     "elapsed": 4,
     "status": "ok",
     "timestamp": 1624471125923,
     "user": {
      "displayName": "Cristina Axente",
      "photoUrl": "",
      "userId": "11463701599394238483"
     },
     "user_tz": -180
    },
    "id": "PWxXB5mD4bG8"
   },
   "outputs": [],
   "source": [
    "from sklearn.model_selection import train_test_split\n",
    "from sklearn.preprocessing import StandardScaler;\n",
    "#from pyspark.ml.classification import LogisticRegression\n",
    "from sklearn.linear_model import LogisticRegression\n",
    "from pyspark.ml import Pipeline"
   ]
  },
  {
   "cell_type": "code",
   "execution_count": 380,
   "metadata": {
    "executionInfo": {
     "elapsed": 375,
     "status": "ok",
     "timestamp": 1624474610694,
     "user": {
      "displayName": "Cristina Axente",
      "photoUrl": "",
      "userId": "11463701599394238483"
     },
     "user_tz": -180
    },
    "id": "AvEpxmhQ7Sm9"
   },
   "outputs": [],
   "source": [
    "x_train, x_test, y_train, y_test = train_test_split(StandardScaler().fit_transform(x_data), y_data, test_size=0.2, random_state=40)"
   ]
  },
  {
   "cell_type": "code",
   "execution_count": 381,
   "metadata": {
    "executionInfo": {
     "elapsed": 6,
     "status": "ok",
     "timestamp": 1624474612218,
     "user": {
      "displayName": "Cristina Axente",
      "photoUrl": "",
      "userId": "11463701599394238483"
     },
     "user_tz": -180
    },
    "id": "7VstIJfZ8eFN"
   },
   "outputs": [],
   "source": [
    "model = LogisticRegression()"
   ]
  },
  {
   "cell_type": "code",
   "execution_count": 382,
   "metadata": {
    "colab": {
     "base_uri": "https://localhost:8080/"
    },
    "executionInfo": {
     "elapsed": 16,
     "status": "ok",
     "timestamp": 1624474613621,
     "user": {
      "displayName": "Cristina Axente",
      "photoUrl": "",
      "userId": "11463701599394238483"
     },
     "user_tz": -180
    },
    "id": "HIDKhmFy6B3w",
    "outputId": "96de7893-6022-4efc-9036-1e8b2d83aa42"
   },
   "outputs": [
    {
     "name": "stderr",
     "output_type": "stream",
     "text": [
      "/usr/local/lib/python3.7/dist-packages/sklearn/utils/validation.py:760: DataConversionWarning: A column-vector y was passed when a 1d array was expected. Please change the shape of y to (n_samples, ), for example using ravel().\n",
      "  y = column_or_1d(y, warn=True)\n"
     ]
    },
    {
     "data": {
      "text/plain": [
       "LogisticRegression(C=1.0, class_weight=None, dual=False, fit_intercept=True,\n",
       "                   intercept_scaling=1, l1_ratio=None, max_iter=100,\n",
       "                   multi_class='auto', n_jobs=None, penalty='l2',\n",
       "                   random_state=None, solver='lbfgs', tol=0.0001, verbose=0,\n",
       "                   warm_start=False)"
      ]
     },
     "execution_count": 382,
     "metadata": {
      "tags": []
     },
     "output_type": "execute_result"
    }
   ],
   "source": [
    "model.fit(x_test, y_test)"
   ]
  },
  {
   "cell_type": "code",
   "execution_count": 383,
   "metadata": {
    "executionInfo": {
     "elapsed": 9,
     "status": "ok",
     "timestamp": 1624474614885,
     "user": {
      "displayName": "Cristina Axente",
      "photoUrl": "",
      "userId": "11463701599394238483"
     },
     "user_tz": -180
    },
    "id": "MSHPPLr_B7Jj"
   },
   "outputs": [],
   "source": [
    "predictions = model.predict(x_test)"
   ]
  },
  {
   "cell_type": "code",
   "execution_count": 384,
   "metadata": {
    "colab": {
     "base_uri": "https://localhost:8080/"
    },
    "executionInfo": {
     "elapsed": 11,
     "status": "ok",
     "timestamp": 1624474617081,
     "user": {
      "displayName": "Cristina Axente",
      "photoUrl": "",
      "userId": "11463701599394238483"
     },
     "user_tz": -180
    },
    "id": "nuD1a0f0CDa5",
    "outputId": "487379d8-7e94-4097-cfff-d4344a359818"
   },
   "outputs": [
    {
     "name": "stdout",
     "output_type": "stream",
     "text": [
      "[[25  1]\n",
      " [ 0 35]]\n"
     ]
    }
   ],
   "source": [
    "from sklearn.metrics import confusion_matrix\n",
    "from sklearn.metrics import accuracy_score\n",
    "print(confusion_matrix(y_test, predictions))"
   ]
  },
  {
   "cell_type": "code",
   "execution_count": 385,
   "metadata": {
    "colab": {
     "base_uri": "https://localhost:8080/"
    },
    "executionInfo": {
     "elapsed": 6,
     "status": "ok",
     "timestamp": 1624474618626,
     "user": {
      "displayName": "Cristina Axente",
      "photoUrl": "",
      "userId": "11463701599394238483"
     },
     "user_tz": -180
    },
    "id": "wuqOmKGcCsHT",
    "outputId": "faabd9e9-9d05-42e5-ecb1-ca2ae34585ef"
   },
   "outputs": [
    {
     "name": "stdout",
     "output_type": "stream",
     "text": [
      "Accuracy: 0.984\n"
     ]
    }
   ],
   "source": [
    "print('Accuracy: %.3f' % accuracy_score(y_test, predictions))"
   ]
  },
  {
   "cell_type": "markdown",
   "metadata": {
    "id": "qAb5MFhXE_OF"
   },
   "source": [
    "# **6. Deep Learning Method**"
   ]
  },
  {
   "cell_type": "code",
   "execution_count": 386,
   "metadata": {
    "executionInfo": {
     "elapsed": 760,
     "status": "ok",
     "timestamp": 1624474628290,
     "user": {
      "displayName": "Cristina Axente",
      "photoUrl": "",
      "userId": "11463701599394238483"
     },
     "user_tz": -180
    },
    "id": "TFMgtgCCCtWt"
   },
   "outputs": [],
   "source": [
    "import tensorflow as tf\n",
    "from tensorflow.keras.models import Sequential\n",
    "from tensorflow.keras.layers import Dense, Activation, Dropout"
   ]
  },
  {
   "cell_type": "code",
   "execution_count": 387,
   "metadata": {
    "colab": {
     "base_uri": "https://localhost:8080/"
    },
    "executionInfo": {
     "elapsed": 10,
     "status": "ok",
     "timestamp": 1624474629375,
     "user": {
      "displayName": "Cristina Axente",
      "photoUrl": "",
      "userId": "11463701599394238483"
     },
     "user_tz": -180
    },
    "id": "CXJBt0NeFQLm",
    "outputId": "e7e5052f-60d2-46e6-e4f4-ab9565c5ae11"
   },
   "outputs": [
    {
     "name": "stdout",
     "output_type": "stream",
     "text": [
      "Model: \"sequential_4\"\n",
      "_________________________________________________________________\n",
      "Layer (type)                 Output Shape              Param #   \n",
      "=================================================================\n",
      "dense_12 (Dense)             (None, 100)               1400      \n",
      "_________________________________________________________________\n",
      "dense_13 (Dense)             (None, 100)               10100     \n",
      "_________________________________________________________________\n",
      "dense_14 (Dense)             (None, 1)                 101       \n",
      "=================================================================\n",
      "Total params: 11,601\n",
      "Trainable params: 11,601\n",
      "Non-trainable params: 0\n",
      "_________________________________________________________________\n"
     ]
    }
   ],
   "source": [
    "model = Sequential()\n",
    "model.add(Dense(units=100, activation='relu', input_shape=(13,))) # First layer \n",
    "model.add(Dense(units=100, activation='relu')) # Second layer\n",
    "model.add(Dense(units=1, activation='sigmoid')) # Output layer\n",
    "model.summary()"
   ]
  },
  {
   "cell_type": "code",
   "execution_count": 388,
   "metadata": {
    "executionInfo": {
     "elapsed": 367,
     "status": "ok",
     "timestamp": 1624474631936,
     "user": {
      "displayName": "Cristina Axente",
      "photoUrl": "",
      "userId": "11463701599394238483"
     },
     "user_tz": -180
    },
    "id": "73UXESWHFVMa"
   },
   "outputs": [],
   "source": [
    "model.compile(optimizer = 'adam', loss = 'binary_crossentropy', metrics = ['accuracy'])"
   ]
  },
  {
   "cell_type": "code",
   "execution_count": 389,
   "metadata": {
    "colab": {
     "base_uri": "https://localhost:8080/"
    },
    "executionInfo": {
     "elapsed": 2540,
     "status": "ok",
     "timestamp": 1624474636396,
     "user": {
      "displayName": "Cristina Axente",
      "photoUrl": "",
      "userId": "11463701599394238483"
     },
     "user_tz": -180
    },
    "id": "_702hgN3FYjG",
    "outputId": "5614c1ce-cb4a-4ed5-87c4-94f5191be6c9"
   },
   "outputs": [
    {
     "name": "stdout",
     "output_type": "stream",
     "text": [
      "Epoch 1/50\n",
      "3/3 [==============================] - 1s 75ms/step - loss: 0.7425 - accuracy: 0.4523 - val_loss: 0.6915 - val_accuracy: 0.6066\n",
      "Epoch 2/50\n",
      "3/3 [==============================] - 0s 13ms/step - loss: 0.6670 - accuracy: 0.6058 - val_loss: 0.6213 - val_accuracy: 0.7869\n",
      "Epoch 3/50\n",
      "3/3 [==============================] - 0s 12ms/step - loss: 0.6039 - accuracy: 0.7427 - val_loss: 0.5600 - val_accuracy: 0.8197\n",
      "Epoch 4/50\n",
      "3/3 [==============================] - 0s 11ms/step - loss: 0.5531 - accuracy: 0.7676 - val_loss: 0.5073 - val_accuracy: 0.8525\n",
      "Epoch 5/50\n",
      "3/3 [==============================] - 0s 10ms/step - loss: 0.5101 - accuracy: 0.7801 - val_loss: 0.4605 - val_accuracy: 0.8525\n",
      "Epoch 6/50\n",
      "3/3 [==============================] - 0s 15ms/step - loss: 0.4737 - accuracy: 0.7967 - val_loss: 0.4189 - val_accuracy: 0.8525\n",
      "Epoch 7/50\n",
      "3/3 [==============================] - 0s 12ms/step - loss: 0.4448 - accuracy: 0.8133 - val_loss: 0.3832 - val_accuracy: 0.8689\n",
      "Epoch 8/50\n",
      "3/3 [==============================] - 0s 12ms/step - loss: 0.4214 - accuracy: 0.8299 - val_loss: 0.3527 - val_accuracy: 0.8852\n",
      "Epoch 9/50\n",
      "3/3 [==============================] - 0s 13ms/step - loss: 0.4020 - accuracy: 0.8340 - val_loss: 0.3276 - val_accuracy: 0.9016\n",
      "Epoch 10/50\n",
      "3/3 [==============================] - 0s 13ms/step - loss: 0.3883 - accuracy: 0.8382 - val_loss: 0.3089 - val_accuracy: 0.9016\n",
      "Epoch 11/50\n",
      "3/3 [==============================] - 0s 13ms/step - loss: 0.3763 - accuracy: 0.8465 - val_loss: 0.2948 - val_accuracy: 0.9016\n",
      "Epoch 12/50\n",
      "3/3 [==============================] - 0s 14ms/step - loss: 0.3669 - accuracy: 0.8465 - val_loss: 0.2835 - val_accuracy: 0.9016\n",
      "Epoch 13/50\n",
      "3/3 [==============================] - 0s 13ms/step - loss: 0.3583 - accuracy: 0.8465 - val_loss: 0.2762 - val_accuracy: 0.9016\n",
      "Epoch 14/50\n",
      "3/3 [==============================] - 0s 13ms/step - loss: 0.3510 - accuracy: 0.8465 - val_loss: 0.2717 - val_accuracy: 0.9180\n",
      "Epoch 15/50\n",
      "3/3 [==============================] - 0s 23ms/step - loss: 0.3433 - accuracy: 0.8465 - val_loss: 0.2686 - val_accuracy: 0.9180\n",
      "Epoch 16/50\n",
      "3/3 [==============================] - 0s 12ms/step - loss: 0.3361 - accuracy: 0.8548 - val_loss: 0.2679 - val_accuracy: 0.9180\n",
      "Epoch 17/50\n",
      "3/3 [==============================] - 0s 18ms/step - loss: 0.3297 - accuracy: 0.8589 - val_loss: 0.2693 - val_accuracy: 0.9180\n",
      "Epoch 18/50\n",
      "3/3 [==============================] - 0s 12ms/step - loss: 0.3240 - accuracy: 0.8672 - val_loss: 0.2706 - val_accuracy: 0.9016\n",
      "Epoch 19/50\n",
      "3/3 [==============================] - 0s 13ms/step - loss: 0.3183 - accuracy: 0.8714 - val_loss: 0.2700 - val_accuracy: 0.9016\n",
      "Epoch 20/50\n",
      "3/3 [==============================] - 0s 11ms/step - loss: 0.3127 - accuracy: 0.8755 - val_loss: 0.2685 - val_accuracy: 0.9016\n",
      "Epoch 21/50\n",
      "3/3 [==============================] - 0s 12ms/step - loss: 0.3069 - accuracy: 0.8714 - val_loss: 0.2691 - val_accuracy: 0.9016\n",
      "Epoch 22/50\n",
      "3/3 [==============================] - 0s 12ms/step - loss: 0.3020 - accuracy: 0.8755 - val_loss: 0.2689 - val_accuracy: 0.9016\n",
      "Epoch 23/50\n",
      "3/3 [==============================] - 0s 11ms/step - loss: 0.2972 - accuracy: 0.8714 - val_loss: 0.2697 - val_accuracy: 0.9016\n",
      "Epoch 24/50\n",
      "3/3 [==============================] - 0s 13ms/step - loss: 0.2916 - accuracy: 0.8838 - val_loss: 0.2724 - val_accuracy: 0.9016\n",
      "Epoch 25/50\n",
      "3/3 [==============================] - 0s 11ms/step - loss: 0.2869 - accuracy: 0.9004 - val_loss: 0.2749 - val_accuracy: 0.9016\n",
      "Epoch 26/50\n",
      "3/3 [==============================] - 0s 12ms/step - loss: 0.2840 - accuracy: 0.9087 - val_loss: 0.2777 - val_accuracy: 0.9180\n",
      "Epoch 27/50\n",
      "3/3 [==============================] - 0s 11ms/step - loss: 0.2788 - accuracy: 0.9046 - val_loss: 0.2755 - val_accuracy: 0.9016\n",
      "Epoch 28/50\n",
      "3/3 [==============================] - 0s 14ms/step - loss: 0.2739 - accuracy: 0.9004 - val_loss: 0.2730 - val_accuracy: 0.9016\n",
      "Epoch 29/50\n",
      "3/3 [==============================] - 0s 12ms/step - loss: 0.2694 - accuracy: 0.9046 - val_loss: 0.2723 - val_accuracy: 0.9016\n",
      "Epoch 30/50\n",
      "3/3 [==============================] - 0s 12ms/step - loss: 0.2649 - accuracy: 0.9046 - val_loss: 0.2736 - val_accuracy: 0.9016\n",
      "Epoch 31/50\n",
      "3/3 [==============================] - 0s 11ms/step - loss: 0.2607 - accuracy: 0.9046 - val_loss: 0.2741 - val_accuracy: 0.9016\n",
      "Epoch 32/50\n",
      "3/3 [==============================] - 0s 11ms/step - loss: 0.2564 - accuracy: 0.9087 - val_loss: 0.2735 - val_accuracy: 0.9016\n",
      "Epoch 33/50\n",
      "3/3 [==============================] - 0s 11ms/step - loss: 0.2517 - accuracy: 0.9087 - val_loss: 0.2730 - val_accuracy: 0.9016\n",
      "Epoch 34/50\n",
      "3/3 [==============================] - 0s 11ms/step - loss: 0.2479 - accuracy: 0.9129 - val_loss: 0.2734 - val_accuracy: 0.9016\n",
      "Epoch 35/50\n",
      "3/3 [==============================] - 0s 12ms/step - loss: 0.2432 - accuracy: 0.9129 - val_loss: 0.2748 - val_accuracy: 0.9016\n",
      "Epoch 36/50\n",
      "3/3 [==============================] - 0s 12ms/step - loss: 0.2392 - accuracy: 0.9129 - val_loss: 0.2754 - val_accuracy: 0.9016\n",
      "Epoch 37/50\n",
      "3/3 [==============================] - 0s 12ms/step - loss: 0.2349 - accuracy: 0.9129 - val_loss: 0.2777 - val_accuracy: 0.8852\n",
      "Epoch 38/50\n",
      "3/3 [==============================] - 0s 11ms/step - loss: 0.2305 - accuracy: 0.9253 - val_loss: 0.2779 - val_accuracy: 0.8852\n",
      "Epoch 39/50\n",
      "3/3 [==============================] - 0s 13ms/step - loss: 0.2270 - accuracy: 0.9212 - val_loss: 0.2746 - val_accuracy: 0.8852\n",
      "Epoch 40/50\n",
      "3/3 [==============================] - 0s 15ms/step - loss: 0.2229 - accuracy: 0.9170 - val_loss: 0.2738 - val_accuracy: 0.8852\n",
      "Epoch 41/50\n",
      "3/3 [==============================] - 0s 12ms/step - loss: 0.2182 - accuracy: 0.9212 - val_loss: 0.2738 - val_accuracy: 0.8852\n",
      "Epoch 42/50\n",
      "3/3 [==============================] - 0s 13ms/step - loss: 0.2143 - accuracy: 0.9336 - val_loss: 0.2747 - val_accuracy: 0.8852\n",
      "Epoch 43/50\n",
      "3/3 [==============================] - 0s 14ms/step - loss: 0.2114 - accuracy: 0.9253 - val_loss: 0.2818 - val_accuracy: 0.8852\n",
      "Epoch 44/50\n",
      "3/3 [==============================] - 0s 12ms/step - loss: 0.2065 - accuracy: 0.9253 - val_loss: 0.2841 - val_accuracy: 0.8852\n",
      "Epoch 45/50\n",
      "3/3 [==============================] - 0s 14ms/step - loss: 0.2017 - accuracy: 0.9336 - val_loss: 0.2829 - val_accuracy: 0.8852\n",
      "Epoch 46/50\n",
      "3/3 [==============================] - 0s 13ms/step - loss: 0.1982 - accuracy: 0.9336 - val_loss: 0.2798 - val_accuracy: 0.8852\n",
      "Epoch 47/50\n",
      "3/3 [==============================] - 0s 11ms/step - loss: 0.1948 - accuracy: 0.9336 - val_loss: 0.2781 - val_accuracy: 0.8852\n",
      "Epoch 48/50\n",
      "3/3 [==============================] - 0s 11ms/step - loss: 0.1906 - accuracy: 0.9378 - val_loss: 0.2786 - val_accuracy: 0.8852\n",
      "Epoch 49/50\n",
      "3/3 [==============================] - 0s 11ms/step - loss: 0.1864 - accuracy: 0.9336 - val_loss: 0.2808 - val_accuracy: 0.8852\n",
      "Epoch 50/50\n",
      "3/3 [==============================] - 0s 16ms/step - loss: 0.1829 - accuracy: 0.9378 - val_loss: 0.2816 - val_accuracy: 0.9016\n"
     ]
    }
   ],
   "source": [
    "history = model.fit(x=x_train, y=y_train, epochs=50,validation_data=(x_test, y_test), verbose=1,batch_size=100) "
   ]
  },
  {
   "cell_type": "code",
   "execution_count": 390,
   "metadata": {
    "executionInfo": {
     "elapsed": 368,
     "status": "ok",
     "timestamp": 1624474639007,
     "user": {
      "displayName": "Cristina Axente",
      "photoUrl": "",
      "userId": "11463701599394238483"
     },
     "user_tz": -180
    },
    "id": "Mo4E0JHHHa8h"
   },
   "outputs": [],
   "source": [
    "y_pred = model.predict(x_test).reshape((-1,)) > 0.5\n",
    "y_pred = y_pred.astype(np.int32)"
   ]
  },
  {
   "cell_type": "code",
   "execution_count": 391,
   "metadata": {
    "colab": {
     "base_uri": "https://localhost:8080/"
    },
    "executionInfo": {
     "elapsed": 503,
     "status": "ok",
     "timestamp": 1624474641992,
     "user": {
      "displayName": "Cristina Axente",
      "photoUrl": "",
      "userId": "11463701599394238483"
     },
     "user_tz": -180
    },
    "id": "Mz2BXf63Hodt",
    "outputId": "8e390533-c5b4-466b-c481-4c675eae88e1"
   },
   "outputs": [
    {
     "data": {
      "text/plain": [
       "array([[23,  3],\n",
       "       [ 3, 32]])"
      ]
     },
     "execution_count": 391,
     "metadata": {
      "tags": []
     },
     "output_type": "execute_result"
    }
   ],
   "source": [
    "from sklearn.metrics import confusion_matrix\n",
    "confusion_matrix(y_test, y_pred)"
   ]
  },
  {
   "cell_type": "code",
   "execution_count": 392,
   "metadata": {
    "colab": {
     "base_uri": "https://localhost:8080/"
    },
    "executionInfo": {
     "elapsed": 403,
     "status": "ok",
     "timestamp": 1624474645217,
     "user": {
      "displayName": "Cristina Axente",
      "photoUrl": "",
      "userId": "11463701599394238483"
     },
     "user_tz": -180
    },
    "id": "6mhRSvDOHsCm",
    "outputId": "6a48fed1-bc98-4510-faa7-588126305348"
   },
   "outputs": [
    {
     "name": "stdout",
     "output_type": "stream",
     "text": [
      "              precision    recall  f1-score   support\n",
      "\n",
      "           0       0.88      0.88      0.88        26\n",
      "           1       0.91      0.91      0.91        35\n",
      "\n",
      "    accuracy                           0.90        61\n",
      "   macro avg       0.90      0.90      0.90        61\n",
      "weighted avg       0.90      0.90      0.90        61\n",
      "\n"
     ]
    }
   ],
   "source": [
    "from sklearn.metrics import classification_report\n",
    "print(classification_report(y_test, y_pred))"
   ]
  }
 ],
 "metadata": {
  "colab": {
   "authorship_tag": "ABX9TyPE/vJ2kO1U9igCOgJ8IXFR",
   "name": "Copy of Proiect_Varianta_Finala.ipynb",
   "provenance": [
    {
     "file_id": "12ZeVOkC2NC3k1IFddXJMeNOd6tt7_Vs1",
     "timestamp": 1624478137371
    }
   ]
  },
  "kernelspec": {
   "display_name": "Python 3 (ipykernel)",
   "language": "python",
   "name": "python3"
  },
  "language_info": {
   "codemirror_mode": {
    "name": "ipython",
    "version": 3
   },
   "file_extension": ".py",
   "mimetype": "text/x-python",
   "name": "python",
   "nbconvert_exporter": "python",
   "pygments_lexer": "ipython3",
   "version": "3.11.5"
  }
 },
 "nbformat": 4,
 "nbformat_minor": 1
}
